{
 "cells": [
  {
   "cell_type": "code",
   "execution_count": 1,
   "metadata": {},
   "outputs": [],
   "source": [
    "import json\n",
    "meta_data = []\n",
    "with open('./test_logopond.jsonl', 'r', encoding='utf8') as f:\n",
    "    for line in f:\n",
    "        meta_data.append(json.loads(line.strip()))"
   ]
  },
  {
   "cell_type": "code",
   "execution_count": 2,
   "metadata": {},
   "outputs": [],
   "source": [
    "logopond_metadata = []\n",
    "for item in meta_data:\n",
    "    for image_url in item['image_urls']:\n",
    "        new_item = {}\n",
    "        new_item['title'] = item['title']\n",
    "        new_item['description'] = item['description']\n",
    "        new_item['tags'] = list(set([tag for tag in item['tags'] if len(tag) > 0]))\n",
    "        new_item['image_url'] = image_url\n",
    "        logopond_metadata.append(new_item)"
   ]
  },
  {
   "cell_type": "code",
   "execution_count": 4,
   "metadata": {},
   "outputs": [],
   "source": [
    "json.dump(logopond_metadata, open('logopond_metadata.json', 'w', encoding='utf8'))"
   ]
  },
  {
   "cell_type": "code",
   "execution_count": 21,
   "metadata": {},
   "outputs": [
    {
     "data": {
      "text/plain": [
       "2580"
      ]
     },
     "execution_count": 21,
     "metadata": {},
     "output_type": "execute_result"
    }
   ],
   "source": [
    "len(logopond_metadata)"
   ]
  },
  {
   "cell_type": "code",
   "execution_count": 14,
   "metadata": {},
   "outputs": [
    {
     "data": {
      "text/plain": [
       "1800"
      ]
     },
     "execution_count": 14,
     "metadata": {},
     "output_type": "execute_result"
    }
   ],
   "source": [
    "len(meta_data)"
   ]
  },
  {
   "cell_type": "code",
   "execution_count": 23,
   "metadata": {},
   "outputs": [
    {
     "data": {
      "text/plain": [
       "{'title': 'Word Up',\n",
       " 'description': 'Another variation for the blog entry illustration I did last week.  _____________________________________________________________  Lets create something amazing for your project!  contact@cajva.com',\n",
       " 'tags': ['playful', 'cheerful', 'cajva', 'lettering'],\n",
       " 'image_url': 'https://logopond.com/logos/d5e617f967b39ba5fea132a0de957408.png'}"
      ]
     },
     "execution_count": 23,
     "metadata": {},
     "output_type": "execute_result"
    }
   ],
   "source": [
    "logopond_metadata[1]"
   ]
  },
  {
   "cell_type": "code",
   "execution_count": 3,
   "metadata": {},
   "outputs": [
    {
     "data": {
      "text/plain": [
       "dict_keys(['title', 'designer', 'description', 'as_seen_on', 'status', 'viewed', 'tags', 'image_urls'])"
      ]
     },
     "execution_count": 3,
     "metadata": {},
     "output_type": "execute_result"
    }
   ],
   "source": [
    "meta_data[0].keys()"
   ]
  }
 ],
 "metadata": {
  "kernelspec": {
   "display_name": "dsai-env",
   "language": "python",
   "name": "python3"
  },
  "language_info": {
   "codemirror_mode": {
    "name": "ipython",
    "version": 3
   },
   "file_extension": ".py",
   "mimetype": "text/x-python",
   "name": "python",
   "nbconvert_exporter": "python",
   "pygments_lexer": "ipython3",
   "version": "3.9.19"
  }
 },
 "nbformat": 4,
 "nbformat_minor": 2
}
